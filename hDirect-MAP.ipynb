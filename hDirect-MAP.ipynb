{
 "cells": [
  {
   "cell_type": "markdown",
   "metadata": {},
   "source": [
    "# Getting started with hDirect-MAP\n",
    "The code guide includes step by step instructions for figure preparation."
   ]
  },
  {
   "cell_type": "code",
   "execution_count": 4,
   "metadata": {},
   "outputs": [],
   "source": [
    "!jt -t oceans16"
   ]
  },
  {
   "cell_type": "markdown",
   "metadata": {},
   "source": [
    "## Sup Fig 1-3"
   ]
  },
  {
   "cell_type": "markdown",
   "metadata": {},
   "source": [
    "Codes: \"~/Desktop/hDirect-MAP-12-2020-v2/Melanoma/CD8_results_pre/py_melanoma/heatmap_marker_cluster.yellowblack.pre.R\"\n",
    "\n",
    "Codes: \"~/Desktop/hDirect-MAP-12-2020-v2/Melanoma/CD8_results_post/py_melanoma/heatmap_marker_cluster.yellowblack.post.R\""
   ]
  },
  {
   "cell_type": "markdown",
   "metadata": {},
   "source": [
    "## Sup Fig 5"
   ]
  },
  {
   "cell_type": "markdown",
   "metadata": {},
   "source": [
    "Codes: \"~/Desktop/hDirect-MAP-12-2020-v2/Melanoma/CD8_results_pre/py_bcc/Jan2020_melanoma_post.htmp.withallcells.cluster.R\"\n",
    "\n",
    "Codes: \"~/Desktop/hDirect-MAP-12-2020-v2/Combined_Fig_2/combined_plot.broad.less.FigS5.R\""
   ]
  },
  {
   "cell_type": "markdown",
   "metadata": {},
   "source": [
    "## Sup Fig 7"
   ]
  },
  {
   "cell_type": "markdown",
   "metadata": {},
   "source": [
    "Codes: \"~/Desktop/hDirect-MAP-12-2020-v2/Heatmap_spea2_melanoma/py_cytof/heatmap_D_markers_3types.pre.R\"\n",
    "\n",
    "Data: \"gsutil cp -r gs://codes-arch/codes_Feb2020/CyTOF/Cell_patient_analysis/Heatmap_spea2_melanoma/d_input ~/Desktop/hDirect-MAP-12-2020-v2/Heatmap_spea2_melanoma/\"\n",
    "\n",
    "Data on gs: gs://codes-arch/codes_Feb2020/CyTOF/Harvard/Heatmap_spea2/d_input_half_Ipilimumab\n",
    "\n",
    "codes: \"~/Desktop/hDirect-MAP-12-2020-v2/Heatmap_spea2_melanoma/py_cytof_melanoma/Feb2020-heatmap_D_markers_3types.PBMC.R\""
   ]
  },
  {
   "cell_type": "markdown",
   "metadata": {},
   "source": [
    "## Sup Fig 8"
   ]
  },
  {
   "cell_type": "markdown",
   "metadata": {},
   "source": [
    "Data: gs://codes-arch/codes_Feb2020/Melanoma/CD4_results\n",
    "\n",
    "gs://codes-arch/codes_Feb2020/Basal_SCC/CD4_results"
   ]
  },
  {
   "cell_type": "markdown",
   "metadata": {},
   "source": [
    "Codes:\n",
    "\n",
    "Desktop/hDirect-MAP-12-2020-v2/CD4_results/scc_bcc/CD4_results/run_gc/remote_control_gc_vm.sh\n"
   ]
  }
 ],
 "metadata": {
  "kernelspec": {
   "display_name": "Python 3",
   "language": "python",
   "name": "python3"
  },
  "language_info": {
   "codemirror_mode": {
    "name": "ipython",
    "version": 3
   },
   "file_extension": ".py",
   "mimetype": "text/x-python",
   "name": "python",
   "nbconvert_exporter": "python",
   "pygments_lexer": "ipython3",
   "version": "3.8.5"
  }
 },
 "nbformat": 4,
 "nbformat_minor": 5
}
