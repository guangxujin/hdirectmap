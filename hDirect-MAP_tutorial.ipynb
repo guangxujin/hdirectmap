{
 "cells": [
  {
   "attachments": {},
   "cell_type": "markdown",
   "metadata": {},
   "source": [
    "# hDirect-MAP (v.1.0.1)\n",
    "\n",
    "**hDirect-MAP, an algorithm that projects T cells into a shared high-dimensional (HD) expression space of diverse T cell functional signatures in which cells group by T cell phenotypes, poised to ICB outcomes, rather than cancer-specific conditions.**\n",
    "\n",
    "This ipython notebook is part of the submission of _\"Robust and Generalizable Predictive Biomarker of Response to Checkpoint Immunotherapy using High-Dimensional Cell Projection with hDirect-MAP.\"_\n",
    "\n",
    "Here, we use the dataset of GSE123813 [https://www.ncbi.nlm.nih.gov/geo/query/acc.cgi?acc=GSE123813] as an example. This notebook is intended to illustrate a new algorithm for high-dimensional cell projection and its application in prediction of response to ICB. These patient samples were derived from baseline (pre-ICB). These patients received anti-PD-1, or anti-CTLA-4, or anti-PD-1/anti-CTLA-4.\n",
    "\n"
   ]
  },
  {
   "cell_type": "markdown",
   "metadata": {},
   "source": [
    "Python libraries that are used in this tutorial:\n",
    "- numpy for scientific computing needed in high-dimensional cell projection\n",
    "- numba for GPU scientific computing (optional, only needed for GPU users)\n",
    "- Matplotlib and seaborn for figures and data mining models\n",
    "- conda and numba installation instruction (cuda.ipynb)\n",
    "\n",
    "R libraries that are used in this tutorial:\n",
    "- ggplot2 for figures\n",
    "- RColorBrewer, viridis, and circlize for visualization in R\n",
    "- ComplexHeatmap and scales for heatmap plotting\n"
   ]
  },
  {
   "cell_type": "markdown",
   "metadata": {},
   "source": [
    "## Table of contents:\n",
    "\n",
    "  * <a href=#CD8>1 CD8 and CD4 T cell data</a>\n",
    "    * <a href=#CD8>1.1 Exhaustion,effector, and memory markers</a>\n",
    "    * <a href=#preprocessing>1.2 data preprocessing for functional markers</a>\n",
    "  * <a href=#clustering>2 Hierarchical clustering and high-variance markers</a>\n",
    "  * <a href=#PO>3 High-dimensional cell projection by the PO model</a>\n",
    "    * <a href=#PO>3.1 the Pareto Optimization model</a>\n",
    "    * <a href=#criteria>3.2 Setting Optimization Criteria for different T cell functional signatures</a>\n",
    "    * <a href=#hdirectmap>3.3 hDirect-MAP</a>\n",
    "      * <a href=#hdirectmap>3.3.1 Update parameters required for hDirect-MAP</a>\n",
    "      * <a href=#GC>3.3.2 Implementation on Google Cloud Virtual machine (optional)</a>\n",
    "      * <a href=#local>3.3.3 Implementation on local computer</a>\n",
    "      * <a href=#fb>3.3.4 Frontier and Back annotation</a>\n",
    "      * <a href=#combine>3.3.5 combine input and output</a>\n",
    "    * <a href=#hdmetrics>3.4 HD metrics and HD phenotypes</a>\n",
    "      * <a href=#heatmap>3.4.1 Visualize HD metrics and expression data by heatmap</a>\n",
    "      * <a href=#monitoring>3.4.2 Monitoring HD-low and HD-high cells</a>\n",
    "    * <a href=#prediction>3.5 Prediction of response to ICB</a>\n",
    "      * <a href=#dataset>3.5.1 Datasets</a>\n",
    "      * <a href=#random>3.5.2 Random Forest Regressor Model training and testing</a>\n",
    "      * <a href=#poised>3.5.3 Poised metrics for rediction of response to ICB</a>"
   ]
  },
  {
   "cell_type": "markdown",
   "metadata": {},
   "source": [
    "<a id='CD8' ></a>"
   ]
  },
  {
   "cell_type": "markdown",
   "metadata": {},
   "source": [
    "# 1 CD8 and CD4 T cell data\n",
    "\n",
    "## 1.1 Exhaustion,effector, and memory markers\n",
    "We established a shared signature database for candidate T cell functions, based on the Gene Set Enrichment Analysis (GSEA) and Molecular Signatures Database (MSigDB), published literature, and T cell functional markers in CyTOF marker panels. We included 93 exhaustion genes or proteins, 200 effector genes or proteins, and 131 memory genes or proteins (Supplementary Tables 2-4).\n",
    "\n",
    "The data are in Supplementary Tables or in the \"data/signatures\" folder"
   ]
  },
  {
   "cell_type": "code",
   "execution_count": 29,
   "metadata": {},
   "outputs": [
    {
     "name": "stdout",
     "output_type": "stream",
     "text": [
      "data/signatures/eff.csv        data/signatures/mem.csv\n",
      "data/signatures/exhaustion.csv\n"
     ]
    }
   ],
   "source": [
    "!ls data/signatures/*.csv"
   ]
  },
  {
   "cell_type": "code",
   "execution_count": 30,
   "metadata": {},
   "outputs": [
    {
     "name": "stdout",
     "output_type": "stream",
     "text": [
      "      93     575   19075\n"
     ]
    }
   ],
   "source": [
    "!awk '(FNR > 2) {print $0}' data/signatures/exhaustion.csv|wc"
   ]
  },
  {
   "cell_type": "code",
   "execution_count": 31,
   "metadata": {},
   "outputs": [
    {
     "name": "stdout",
     "output_type": "stream",
     "text": [
      "     200    1319   41188\n"
     ]
    }
   ],
   "source": [
    "!awk '(FNR > 2) {print $0}' data/signatures/eff.csv|wc"
   ]
  },
  {
   "cell_type": "code",
   "execution_count": 32,
   "metadata": {},
   "outputs": [
    {
     "name": "stdout",
     "output_type": "stream",
     "text": [
      "     131     831   36005\n"
     ]
    }
   ],
   "source": [
    "!awk '(FNR > 2) {print $0}' data/signatures/mem.csv|wc"
   ]
  },
  {
   "cell_type": "markdown",
   "metadata": {},
   "source": [
    "<a id='preprocessing' ></a>"
   ]
  },
  {
   "cell_type": "markdown",
   "metadata": {},
   "source": [
    "## 1.2 data preprocessing for functional markers\n",
    "CD8 T cells were identified by the expression level of CD3/CD8, and CD4+ T cells were identified by expression levels of CD3/CD4 and the cell annotation in the datasets.\n",
    "\n",
    "An example to processing the CD4 and CD8 T cells from the basal cell carcinoma scRNA-seq dataset.\n",
    "\n",
    "R\n",
    "```Rscript\n",
    "mkdir<-function(d){\n",
    "  if (! file.exists(d)){\n",
    "    dir.create(d)\n",
    "  }\n",
    "}\n",
    "cancer='bcc'\n",
    "mkdir(paste0(\"../data/\",cancer,\"_scRNA-seq\"))\n",
    "setwd(paste0(\"../data/\",cancer,\"_scRNA-seq\"))\n",
    "### data download\n",
    "\n",
    "#https://www.ncbi.nlm.nih.gov/geo/query/acc.cgi?acc=GSE123813\n",
    "\n",
    "### data loading\n",
    "# Count data\n",
    "library(dplyr)\n",
    "bcc_matrix=gzfile('GSE123813_bcc_scRNA_counts.txt.gz','rt')  \n",
    "dat=read.csv(bcc_matrix,header=T,sep='\\t')\n",
    "\n",
    "# meta data\n",
    "GSE123813_bcc_all_metadata <- read.delim(\"GSE123813_bcc_all_metadata.txt\")\n",
    "GSE123813_bcc_scRNA_cells <- colnames(dat)\n",
    "sample_bcc=GSE123813_bcc_all_metadata[GSE123813_bcc_all_metadata[,'cell.id'] %in% GSE123813_bcc_scRNA_cells,]\n",
    "\n",
    "### identify T cells by annotation\n",
    "CD4<-c(\"CD4_T_cells\")\n",
    "sample_cd4t=sample_bcc[sample_bcc[,'cluster'] %in% CD4,]\n",
    "\n",
    "CD8<-c(\"CD8_mem_T_cells\",\"CD8_ex_T_cells\",\"CD8_act_T_cells\")\n",
    "sample_cd8=sample_bcc[sample_bcc[,'cluster'] %in% CD8,]\n",
    "\n",
    "### identify CD4 T cells by CD3/CD4 expression\n",
    "dat_cd4=dat[,dat['CD3D',]>0 | dat['CD3E',]>0]\n",
    "dat_cd4=dat_cd4[,dat_cd4['CD4',]>0]                   \n",
    "\n",
    "### identify CD8 T cells by CD3/CD8 expression levels\n",
    "dat_cd8=dat[,dat['CD8A',]>0 | dat['CD8B',]>0]\n",
    "dat_cd8=dat_cd8[,dat_cd8['CD3D',]>0|dat_cd8['CD3E',]>0]                \n",
    "\n",
    "### data normalization at the cell level\n",
    "#   by total count\n",
    "#   this step is to remove the batch effects of cells\n",
    "#   We used the same strategy as Seurat (https://satijalab.org/seurat/) \n",
    "#   and Scanpy (https://scanpy.readthedocs.io/en/stable/)\n",
    "\n",
    "\n",
    "data.countExpressed <-\n",
    "  apply(dat_cd8, 2, function(x){sum(as.numeric(x[x>0]))})\n",
    "\n",
    "sample_cd8 <- t(t(dat_cd8) / data.countExpressed)*10000\n",
    "\n",
    "### Data for the functional signature and variance for the markers\n",
    "markers<-c('exhaustion','eff','mem')\n",
    "for (marker in markers){\n",
    "  signature <- read.csv(paste0(\"../signatures/\",marker,\".csv\"), header=TRUE, skip=1)\n",
    "  \n",
    "  genes<-signature[,'Gene.Symbol']\n",
    "  dat_cd8_marker<-dat_cd8[genes,]\n",
    "  \n",
    "  SD=apply(dat_cd8_marker,1, sd, na.rm = TRUE)\n",
    "  marker_sd<-data.frame(genes,SD)\n",
    "  out<-\"../Marker_dat/\"\n",
    "  mkdir(out)\n",
    "  out<-paste0(out,'/',cancer,'_',marker)\n",
    "  mkdir(out)\n",
    "  write.table(marker_sd,paste0(out,'/','allmarkers_var.txt'),row.names = FALSE,quote=FALSE,sep='\\t')\n",
    "  write.table(t(dat_cd8_marker),paste0(out,'/','heatmap_data.txt'),row.names = TRUE,quote=FALSE,sep='\\t')\n",
    "}\n",
    "\n",
    "```"
   ]
  },
  {
   "cell_type": "markdown",
   "metadata": {},
   "source": [
    "<a id='clustering' ></a>"
   ]
  },
  {
   "cell_type": "markdown",
   "metadata": {},
   "source": [
    "# 2 Hierarchical clustering and high-variance markers"
   ]
  },
  {
   "cell_type": "markdown",
   "metadata": {},
   "source": [
    "This step is to identify the highly variable markers with consistent T cell phenotypes. The markers used for high-dimensional cell projection were clustered in the hirarchicall clustering by the complexheatmap package of R\n",
    "\n",
    "Bash\n",
    "```bash\n",
    "home=`pwd`\n",
    "codes=$home/codes\n",
    "data=$home/data\n",
    "cancer='bcc'\n",
    "current_dir=$data\n",
    "exp_dir_prefix=${data}'/Marker_dat/'${cancer}'_'\n",
    "outupt_dir=${data}'/combined_for_heatmap/cluster_'${cancer}\n",
    "Rscript=/Library/Frameworks/R.framework/Resources/bin/Rscript\n",
    "$Rscript --vanilla $codes/heatmap_marker_cluster.R \\\n",
    "    $cancer \\\n",
    "    $current_dir \\\n",
    "    $exp_dir_prefix\n",
    "    \n",
    "```\n",
    "exhaustion:\n",
    "<img src=\"data/heatmap_cluster/exhaustion.png\">\n",
    "eff:\n",
    "<img src=\"data/heatmap_cluster/eff.png\">\n",
    "mem:\n",
    "<img src=\"data/heatmap_cluster/mem.png\">"
   ]
  },
  {
   "cell_type": "markdown",
   "metadata": {},
   "source": [
    "<a id='PO' ></a>"
   ]
  },
  {
   "cell_type": "markdown",
   "metadata": {},
   "source": [
    "# 3 High-dimensional cell projection by the PO model"
   ]
  },
  {
   "cell_type": "markdown",
   "metadata": {},
   "source": [
    "## 3.1 The Pareto Optimization model"
   ]
  },
  {
   "cell_type": "markdown",
   "metadata": {},
   "source": [
    "To enable high-dimensional cell projection, hDirect-MAP uses a versatile high-dimensional modeling algorithm, namely Pareto Optimization (PO) model to project T cells into a shared HD expression space comprising diverse T cell functional signatures. \n",
    "\n",
    "The PO model is a multiple-objective optimization (MOO) model. The PO model can combine and distinguish the molecules in the diverse T cell functional signatures, without needing to reduce molecular dimensions. Mathematically,"
   ]
  },
  {
   "cell_type": "code",
   "execution_count": 43,
   "metadata": {},
   "outputs": [
    {
     "data": {
      "text/latex": [
       "\\begin{equation*}\n",
       "\\label{MOO}\n",
       " \\textbf{MOO:} \\begin{cases} \n",
       " \\underset{\\mathbf{x}}{\\text{max  }} &\\mathbf{y}=\\mathbf{f(x)}=\\left[f_1(\\mathbf{x}), f_2(\\mathbf{x}), \\ldots, f_k(\\mathbf{x})\\right]\n",
       " \\\\ \\text{subject to }  &\\mathbf{x} \\in \\mathbf{\\Omega}\n",
       " \\end{cases}\n",
       " \\end{equation*}\n",
       "\n",
       " where $\\mathbf{\\Omega}=\\left\\{\\mathbf{x}=(\\mathbf{x}_1,\\mathbf{x}_2,\\ldots,\\mathbf{x}_n) \\in \\mathbf{X} |\n",
       " \\mathbf{e(x)} = \\left[c_1(\\mathbf{x}), c_2(\\mathbf{x}), \\ldots, c_m(\\mathbf{x})\\right] \\leq \\mathbf{0}\\right\\}$ is called as a feasible set, containing the set of decision vectors $\\mathbf{x}$ that satisfies the constraints $\\mathbf{e(x)} \\leq \\mathbf{0}$. \n"
      ],
      "text/plain": [
       "<IPython.core.display.Latex object>"
      ]
     },
     "metadata": {},
     "output_type": "display_data"
    }
   ],
   "source": [
    "%%latex\n",
    "\\begin{equation*}\n",
    "\\label{MOO}\n",
    " \\textbf{MOO:} \\begin{cases} \n",
    " \\underset{\\mathbf{x}}{\\text{max  }} &\\mathbf{y}=\\mathbf{f(x)}=\\left[f_1(\\mathbf{x}), f_2(\\mathbf{x}), \\ldots, f_k(\\mathbf{x})\\right]\n",
    " \\\\ \\text{subject to }  &\\mathbf{x} \\in \\mathbf{\\Omega}\n",
    " \\end{cases}\n",
    " \\end{equation*}\n",
    "\n",
    " where $\\mathbf{\\Omega}=\\left\\{\\mathbf{x}=(\\mathbf{x}_1,\\mathbf{x}_2,\\ldots,\\mathbf{x}_n) \\in \\mathbf{X} |\n",
    " \\mathbf{e(x)} = \\left[c_1(\\mathbf{x}), c_2(\\mathbf{x}), \\ldots, c_m(\\mathbf{x})\\right] \\leq \\mathbf{0}\\right\\}$ is called as a feasible set, containing the set of decision vectors $\\mathbf{x}$ that satisfies the constraints $\\mathbf{e(x)} \\leq \\mathbf{0}$. "
   ]
  },
  {
   "cell_type": "code",
   "execution_count": 39,
   "metadata": {},
   "outputs": [
    {
     "data": {
      "text/latex": [
       "\\begin{equation}\n",
       "\\label{PO}\n",
       " \\textbf{PO:} \\begin{cases} \\underset{\\mathbf{y}}{\\text{max}} &\\left[\\mathbf{y}_1, \\mathbf{y}_2, \\ldots, \\mathbf{y}_k\\right]\\\\ \\text{subject to } &\\mathbf{y} \\in \\mathbf{\\Theta} \\end{cases}\n",
       " \\end{equation}\n"
      ],
      "text/plain": [
       "<IPython.core.display.Latex object>"
      ]
     },
     "metadata": {},
     "output_type": "display_data"
    }
   ],
   "source": [
    "%%latex\n",
    "\\begin{equation}\n",
    "\\label{PO}\n",
    " \\textbf{PO:} \\begin{cases} \\underset{\\mathbf{y}}{\\text{max}} &\\left[\\mathbf{y}_1, \\mathbf{y}_2, \\ldots, \\mathbf{y}_k\\right]\\\\ \\text{subject to } &\\mathbf{y} \\in \\mathbf{\\Theta} \\end{cases}\n",
    " \\end{equation}"
   ]
  },
  {
   "cell_type": "code",
   "execution_count": 47,
   "metadata": {},
   "outputs": [
    {
     "data": {
      "text/latex": [
       "Within a k-dimensional expression space ($\\mathbf{\\Theta}$), the PO model uses its $k$ objectives ($\\mathbf{y}_i,  i = 1,2,\\ldots,k$ ) to integrate $k_1$  molecules from exhaustion signature, $k_2$  molecules from effector signature, and $k_3$  molecules from memory signature. \n"
      ],
      "text/plain": [
       "<IPython.core.display.Latex object>"
      ]
     },
     "metadata": {},
     "output_type": "display_data"
    }
   ],
   "source": [
    "%%latex\n",
    "Within a k-dimensional expression space ($\\mathbf{\\Theta}$), the PO model uses its $k$ objectives ($\\mathbf{y}_i,  i = 1,2,\\ldots,k$ ) to integrate $k_1$  molecules from exhaustion signature, $k_2$  molecules from effector signature, and $k_3$  molecules from memory signature. "
   ]
  },
  {
   "cell_type": "markdown",
   "metadata": {},
   "source": [
    "<img src=\"data/workflow/PO.png\">"
   ]
  },
  {
   "cell_type": "markdown",
   "metadata": {},
   "source": [
    "<a id='criteria' ></a>"
   ]
  },
  {
   "cell_type": "markdown",
   "metadata": {},
   "source": [
    "## 3.2 Setting Optimization Criteria for different T cell functional signatures\n",
    "\n",
    "Although there exist studies on associations of individual T cell functions and response to ICB (RCB), the complex relationships between diverse T cell functions and RCB are still unknown. hDirect-MAP aims to understand and explain how each T cell functional molecule contributes to RCB and what is the differences between these molecules in determining RCB. We used melanoma baseline (pre-ICB) dataset (patient sample n=18, CD8 T cell number N=2,761, and treatment: anti-PD-1, or anti-CTLA-4, or anti-PD-1/anti-CTLA-4) as our discovery cohort. We found that essential T cell effector molecules such as GZMA, GZMB, and PRF1 are not associated with responders (patients who responded to ICB). Alternatively, effector signature occurs together with exhaustion signature molecules, e.g., PDCD1 (PD-1), CTLA4, and HAVCR2 (TIM-3) in the T cells of non-responders (patients who did not respond to ICB). Interestingly, we discovered that memory signature determines RCB when combined with effector and exhaustion signatures, as indicated by the distinct expression pattern of memory molecules compared to those from effector and exhaustion molecules. In this paper, we considered three fundamental T cell functional signatures, i.e., exhaustion, effector, and memory, in the high dimensional cell projection.\n",
    "\n",
    "Accordingly, we set maximum for exhaustion and effector signatures and minimum for memory signature.\n",
    "\n",
    "```bash\n",
    "exh=1\n",
    "eff=1\n",
    "mem=-1\n",
    "python prepare_3types_spea2_input.py \\\n",
    "        $cancer \\\n",
    "        $exp_dir_prefix \\\n",
    "        $exh \\\n",
    "        $eff \\\n",
    "        $mem\n",
    "```"
   ]
  },
  {
   "cell_type": "markdown",
   "metadata": {},
   "source": [
    "<a id='hdirectmap' ></a>"
   ]
  },
  {
   "cell_type": "markdown",
   "metadata": {},
   "source": [
    "## 3.3 hDirect-MAP"
   ]
  },
  {
   "cell_type": "markdown",
   "metadata": {},
   "source": [
    "hDirect-MAP is a python software package for implementation of the PO model for high-dimensional cell projection. To enable modeling a large number of cells, the software includes a module for GPU computing using Numba library. "
   ]
  },
  {
   "cell_type": "markdown",
   "metadata": {},
   "source": [
    "### 3.3.1 Update parameters required for hDirect-MAP\n",
    "```bash\n",
    "cancer=$cancer\n",
    "samp=\"3types_spea2_\"${cancer}\n",
    "out=\"../data/hDirect-MAP_output\"\n",
    "data_folder=../data_folder\n",
    "ratio=0.8\n",
    "GPU='TRUE' ### or set GPU=\"\" if using CPUs\n",
    "GC='TRUE' ### specify if google cloud virtual machine is used\n",
    "mkdir $data_folder\n",
    "python change_config.py $samp $out $ratio $data_folder $GPU\n",
    "hdirectmap_codes=hdscmed_CD4\n",
    "cp -rf ../$samp ./data_folder/\n",
    "cp -f config.py $hdirectmap_codes/\n",
    "```"
   ]
  },
  {
   "cell_type": "markdown",
   "metadata": {},
   "source": [
    "<a id='GC' ></a>"
   ]
  },
  {
   "cell_type": "markdown",
   "metadata": {},
   "source": [
    "### 3.3.2 Implementation on Google Cloud virtual machine (optional)"
   ]
  },
  {
   "cell_type": "markdown",
   "metadata": {},
   "source": [
    "If using a virtual machine with GPUs on Google Cloud, hDirect-MAP can automatically implement the codes and data on Google Cloud. \n",
    "\n",
    "```bash\n",
    "\n",
    "if (( $GC == 'TRUE' )); then\n",
    "\n",
    "#### cp codes with data to gc\n",
    "virture_machine=\"guangxujin@gpus-conda\"\n",
    "zone=\"us-east1-b\"\n",
    "bash move_data_to_gc.sh ../run_gc $virture_machine\n",
    "bash move_data_to_gc.sh run_hDiretmap.sh $virture_machine\n",
    "\n",
    "#### run codes on gc\n",
    "samp_folder=${data_folder}/${samp}\n",
    "cmd_bash=run_hDiretmap.sh\n",
    "codes_folder=run_gc/${hdirectmap_codes}\n",
    "cmd='bash '${cmd_bash}' '${samp_folder}' '${codes_folder}\n",
    "echo $cmd\n",
    "gcloud compute ssh $virture_machine --zone=$zone --command=$cmd\n",
    "\n",
    "#### return results to local\n",
    "folder_gc=run_gc/data_folder/result__${samp}__${ratio}\n",
    "des_local=data_folder\n",
    "bash get_data_from_gc.sh $folder_gc $des_local $virture_machine \n",
    "\n",
    "fi\n",
    "\n",
    "```"
   ]
  },
  {
   "cell_type": "markdown",
   "metadata": {},
   "source": [
    "<a id='local' ></a>"
   ]
  },
  {
   "cell_type": "markdown",
   "metadata": {},
   "source": [
    "### 3.3.3 Implementation on local computer"
   ]
  },
  {
   "cell_type": "markdown",
   "metadata": {},
   "source": [
    "```bash\n",
    "if (( $GC != 'TRUE' )); then\n",
    "samp_folder=${data_folder}/${samp}\n",
    "cmd_bash=run_hDiretmap.sh\n",
    "codes_folder=run_gc/${hdirectmap_codes}\n",
    "\n",
    "bash ${cmd_bash} \\\n",
    "        ${samp_folder} \\\n",
    "        ${codes_folder}\n",
    "\n",
    "fi\n",
    "\n",
    "```"
   ]
  },
  {
   "cell_type": "markdown",
   "metadata": {},
   "source": [
    "<a id='fb' ></a>"
   ]
  },
  {
   "cell_type": "markdown",
   "metadata": {},
   "source": [
    "### 3.3.4 Frontier and Back annotation"
   ]
  },
  {
   "cell_type": "code",
   "execution_count": 55,
   "metadata": {},
   "outputs": [
    {
     "data": {
      "text/latex": [
       "\n",
       "\\begin{equation}\n",
       "\\text{A T cell } \\mathbf{a}  \\text{ belongs to } \\mathbf{Frontier} \\Leftrightarrow S(\\mathbf{a}) > 0 \\text{ and } F(\\mathbf{a}) = 0 \n",
       "\\end{equation}\n",
       "\n",
       "\\begin{equation}\n",
       "\\text{A T cell } \\mathbf{a}  \\text{ belongs to } \\mathbf{Back} \\Leftrightarrow S(\\mathbf{a}) = 0 \\text{ and } F(\\mathbf{a}) > 0 \n",
       "\\end{equation}\n"
      ],
      "text/plain": [
       "<IPython.core.display.Latex object>"
      ]
     },
     "metadata": {},
     "output_type": "display_data"
    }
   ],
   "source": [
    "%%latex\n",
    "\n",
    "\\begin{equation}\n",
    "\\text{A T cell } \\mathbf{a}  \\text{ belongs to } \\mathbf{Frontier} \\Leftrightarrow S(\\mathbf{a}) > 0 \\text{ and } F(\\mathbf{a}) = 0 \n",
    "\\end{equation}\n",
    "\n",
    "\\begin{equation}\n",
    "\\text{A T cell } \\mathbf{a}  \\text{ belongs to } \\mathbf{Back} \\Leftrightarrow S(\\mathbf{a}) = 0 \\text{ and } F(\\mathbf{a}) > 0 \n",
    "\\end{equation}"
   ]
  },
  {
   "cell_type": "markdown",
   "metadata": {},
   "source": [
    "Bash\n",
    "```bash\n",
    "#### identify back and frontier\n",
    "data_folder='data_folder'\n",
    "output=$data_folder/result__${samp}__${ratio}\n",
    "python identify_back_front.py $output\n",
    "```"
   ]
  },
  {
   "cell_type": "markdown",
   "metadata": {},
   "source": [
    "<a id='combine' ></a>"
   ]
  },
  {
   "cell_type": "markdown",
   "metadata": {},
   "source": [
    "### 3.3.5 combine input and output"
   ]
  },
  {
   "cell_type": "markdown",
   "metadata": {},
   "source": [
    "Bash\n",
    "```bash\n",
    "\n",
    "#### combine input and output\n",
    "data_folder='data_folder'\n",
    "samp_folder=${data_folder}/${samp}\n",
    "input_folder=$samp_folder\n",
    "output=$data_folder/result__${samp}__${ratio}\n",
    "output_folder=${output}/$cancer\n",
    "immune_marker_folder='../Marker_dat'\n",
    "combined_data_folder='../combined_input_spea2_data'\n",
    "mkdir $combined_data_folder\n",
    "combined_folder=${combined_data_folder}/\"exp_spea2_\"${cancer}\n",
    "python combine_input_output.py \\\n",
    "            $input_folder \\\n",
    "            $output_folder \\\n",
    "            $immune_marker_folder \\\n",
    "            $cancer \\\n",
    "            $combined_folder\n",
    "\n",
    "\n",
    "```"
   ]
  },
  {
   "cell_type": "markdown",
   "metadata": {},
   "source": [
    "<a id='hdmetrics' ></a>"
   ]
  },
  {
   "cell_type": "markdown",
   "metadata": {},
   "source": [
    "## 3.4 HD metrics and HD phenotypes"
   ]
  },
  {
   "cell_type": "markdown",
   "metadata": {},
   "source": [
    "<a id='heatmap' ></a>"
   ]
  },
  {
   "cell_type": "markdown",
   "metadata": {},
   "source": [
    "### 3.4.1 Visualize HD metrics and expression data by heatmap\n",
    "\n",
    "```bash\n",
    "\n",
    "current_dir=`pwd`\n",
    "combined_data_dir=$combined_folder\n",
    "combined_data_outdir=${combined_data_folder}/\"heatmap_prediction_\"${cancer}\n",
    "Rscript=/Library/Frameworks/R.framework/Resources/bin/Rscript\n",
    "$Rscript --vanilla visualize_data.R \\\n",
    "        $current_dir \\\n",
    "        $combined_data_dir \\\n",
    "        $combined_data_outdir \\\n",
    "        $cancer\n",
    "    \n",
    "```\n",
    "\n",
    "<img src=\"data/workflow/heatmap.png\">"
   ]
  },
  {
   "cell_type": "markdown",
   "metadata": {},
   "source": [
    "<a id='monitoring' ></a>"
   ]
  },
  {
   "cell_type": "markdown",
   "metadata": {},
   "source": [
    "### 3.4.2 Monitor HD-low and HD-high cells"
   ]
  },
  {
   "cell_type": "markdown",
   "metadata": {},
   "source": [
    "<a id='prediction' ></a>"
   ]
  },
  {
   "cell_type": "markdown",
   "metadata": {},
   "source": [
    "## 3.5 Prediction of response to ICB\n",
    "\n",
    "Using 5-fold cross-validation, we implemented RCB prediction for each of the scRNA-seq and CyTOF datasets. The classification power was evaluated by the area under the receiver operating characteristic curve (AUC). To intuitively display the association of the four HD metrics and RCB, we used the predictive probability as a biomarker, which we called poised metric, indicating the extent to which T cells of a patient sample are poised to HD-high and the probability of a patient who is classified as a non-responder (NR)."
   ]
  },
  {
   "cell_type": "markdown",
   "metadata": {},
   "source": [
    "<a id='dataset' ></a>"
   ]
  },
  {
   "cell_type": "markdown",
   "metadata": {},
   "source": [
    "### 3.5.1 Datasets\n",
    "\n",
    "We applied hDirect-MAP to the CD8+ T cell data from four publically available scRNA-seq datasets for basal cell carcinoma (BCC, sample number, n=28, cell number, N=13,832), squamous cell carcinoma (SCC, n=11, N=12,029), and melanoma (Baseline or pre-ICB: n=18, N=2,761; and post-ICB: n=35, N=4,628) and two publically available CyTOF datasets from melanoma tissues (n=11, N=101,257) and melanoma peripheral blood mononuclear cells (PBMC, n=24, N=354,180). These patient samples were derived from baseline (pre-ICB) or post-ICB. These patients received anti-PD-1, or anti-CTLA-4, or anti-PD-1/anti-CTLA-4.\n",
    "\n",
    "\n",
    "<img src=\"data/workflow/sample.png\">"
   ]
  },
  {
   "cell_type": "markdown",
   "metadata": {},
   "source": [
    "<a id='random' ></a>"
   ]
  },
  {
   "cell_type": "markdown",
   "metadata": {},
   "source": [
    "### 3.5.2 Random Forest Regressor Model training and testing\n",
    "```bash\n",
    "\n",
    "test_per=0.2\n",
    "combined_data=${combined_data_folder}/\"heatmap_prediction_\"${cancer}\n",
    "output_dir=${combined_data_folder}/\"HDmetrics_predictionmodel_roc_\"${cancer}\n",
    "sample_name='split'\n",
    "python roc_prediction_training.py \\\n",
    "            $cancer \\\n",
    "            $test_per \\\n",
    "            $combined_data \\\n",
    "            $output_dir \\\n",
    "            $sample_name\n",
    "```"
   ]
  },
  {
   "cell_type": "markdown",
   "metadata": {},
   "source": [
    "<a id='poised' ></a>"
   ]
  },
  {
   "cell_type": "markdown",
   "metadata": {},
   "source": [
    "### 3.5.3 Poised metrics for rediction of response to ICB\n",
    "\n",
    "```bash\n",
    "\n",
    "python roc_prediction_testing.py \\\n",
    "        $cancer \\\n",
    "        $test_per \\\n",
    "        $combined_data \\\n",
    "        $output_dir \\\n",
    "        $sample_name\n",
    "```\n",
    "\n",
    "<img src=\"data/workflow/prediction.png\">"
   ]
  },
  {
   "cell_type": "code",
   "execution_count": null,
   "metadata": {},
   "outputs": [],
   "source": []
  }
 ],
 "metadata": {
  "kernelspec": {
   "display_name": "Python 3",
   "language": "python",
   "name": "python3"
  },
  "language_info": {
   "codemirror_mode": {
    "name": "ipython",
    "version": 3
   },
   "file_extension": ".py",
   "mimetype": "text/x-python",
   "name": "python",
   "nbconvert_exporter": "python",
   "pygments_lexer": "ipython3",
   "version": "3.7.4"
  }
 },
 "nbformat": 4,
 "nbformat_minor": 4
}
